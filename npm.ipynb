{
 "cells": [
  {
   "cell_type": "markdown",
   "metadata": {},
   "source": [
    "# Stage #1 npm\n",
    "foo\n",
    "    index.js\n",
    "    package.json\n",
    "    node_modules\n",
    "    bar\n",
    "        index.js\n",
    "        ...\n",
    "\n",
    "dependency tree too long\n",
    "\n",
    "package reuse\n",
    "\n",
    "# Stage #2 npm@v3 yarn pnpm\n",
    "flat node_modules\n",
    "foo\n",
    "    index.js\n",
    "    ...\n",
    "bar\n",
    "    index.js\n",
    "    ...\n",
    "\n",
    "illeagal access\n",
    "\n",
    "resolving dependency tree\n",
    "\n",
    "# Stage #3 pnpm\n",
    "symlink\n",
    "\n",
    "symbol link\n",
    "\n",
    "- Phantom dependencies\n",
    "- doppelgangers\n",
    "\n",
    "[为什么选择pnpm? 包管理器的依赖处理简史](https://www.bilibili.com/video/BV1B34y1E7MS/)\n",
    "\n",
    "[pnpm如何避免一些愚蠢的bug，对比npm](https://www.bilibili.com/video/BV1U94y1U7ar/)\n",
    "\n",
    "[JavaScript 包管理器简史（npm/yarn/pnpm）](https://zhuanlan.zhihu.com/p/451025256)\n"
   ]
  }
 ],
 "metadata": {
  "language_info": {
   "name": "python"
  }
 },
 "nbformat": 4,
 "nbformat_minor": 2
}
